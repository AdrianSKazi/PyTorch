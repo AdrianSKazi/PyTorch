{
  "nbformat": 4,
  "nbformat_minor": 0,
  "metadata": {
    "colab": {
      "provenance": [],
      "authorship_tag": "ABX9TyOY4ntiARoHSXHdUWyhTXvy",
      "include_colab_link": true
    },
    "kernelspec": {
      "name": "python3",
      "display_name": "Python 3"
    },
    "language_info": {
      "name": "python"
    }
  },
  "cells": [
    {
      "cell_type": "markdown",
      "metadata": {
        "id": "view-in-github",
        "colab_type": "text"
      },
      "source": [
        "<a href=\"https://colab.research.google.com/github/AdrianSKazi/PyTorch/blob/main/PyTorch.ipynb\" target=\"_parent\"><img src=\"https://colab.research.google.com/assets/colab-badge.svg\" alt=\"Open In Colab\"/></a>"
      ]
    },
    {
      "cell_type": "markdown",
      "source": [
        "# 00. PyTorch Fundamentals"
      ],
      "metadata": {
        "id": "JnTmzbvvdxUw"
      }
    },
    {
      "cell_type": "markdown",
      "source": [
        "## PyTorch Setup"
      ],
      "metadata": {
        "id": "tC3YN9rheCBP"
      }
    },
    {
      "cell_type": "code",
      "source": [
        "pip install torch torchvision"
      ],
      "metadata": {
        "colab": {
          "base_uri": "https://localhost:8080/"
        },
        "id": "qZCEeWAFeDvp",
        "outputId": "f27d3c3d-e59f-4a73-a4b5-ec90a04588f9"
      },
      "execution_count": null,
      "outputs": [
        {
          "output_type": "stream",
          "name": "stdout",
          "text": [
            "Requirement already satisfied: torch in /usr/local/lib/python3.10/dist-packages (2.1.0+cu121)\n",
            "Requirement already satisfied: torchvision in /usr/local/lib/python3.10/dist-packages (0.16.0+cu121)\n",
            "Requirement already satisfied: filelock in /usr/local/lib/python3.10/dist-packages (from torch) (3.13.1)\n",
            "Requirement already satisfied: typing-extensions in /usr/local/lib/python3.10/dist-packages (from torch) (4.5.0)\n",
            "Requirement already satisfied: sympy in /usr/local/lib/python3.10/dist-packages (from torch) (1.12)\n",
            "Requirement already satisfied: networkx in /usr/local/lib/python3.10/dist-packages (from torch) (3.2.1)\n",
            "Requirement already satisfied: jinja2 in /usr/local/lib/python3.10/dist-packages (from torch) (3.1.2)\n",
            "Requirement already satisfied: fsspec in /usr/local/lib/python3.10/dist-packages (from torch) (2023.6.0)\n",
            "Requirement already satisfied: triton==2.1.0 in /usr/local/lib/python3.10/dist-packages (from torch) (2.1.0)\n",
            "Requirement already satisfied: numpy in /usr/local/lib/python3.10/dist-packages (from torchvision) (1.23.5)\n",
            "Requirement already satisfied: requests in /usr/local/lib/python3.10/dist-packages (from torchvision) (2.31.0)\n",
            "Requirement already satisfied: pillow!=8.3.*,>=5.3.0 in /usr/local/lib/python3.10/dist-packages (from torchvision) (9.4.0)\n",
            "Requirement already satisfied: MarkupSafe>=2.0 in /usr/local/lib/python3.10/dist-packages (from jinja2->torch) (2.1.3)\n",
            "Requirement already satisfied: charset-normalizer<4,>=2 in /usr/local/lib/python3.10/dist-packages (from requests->torchvision) (3.3.2)\n",
            "Requirement already satisfied: idna<4,>=2.5 in /usr/local/lib/python3.10/dist-packages (from requests->torchvision) (3.6)\n",
            "Requirement already satisfied: urllib3<3,>=1.21.1 in /usr/local/lib/python3.10/dist-packages (from requests->torchvision) (2.0.7)\n",
            "Requirement already satisfied: certifi>=2017.4.17 in /usr/local/lib/python3.10/dist-packages (from requests->torchvision) (2023.11.17)\n",
            "Requirement already satisfied: mpmath>=0.19 in /usr/local/lib/python3.10/dist-packages (from sympy->torch) (1.3.0)\n"
          ]
        }
      ]
    },
    {
      "cell_type": "markdown",
      "source": [
        "Test"
      ],
      "metadata": {
        "id": "Tql5zPuzeXD2"
      }
    },
    {
      "cell_type": "code",
      "source": [
        "import torch\n",
        "\n",
        "x = torch.rand(5, 3)\n",
        "x"
      ],
      "metadata": {
        "colab": {
          "base_uri": "https://localhost:8080/"
        },
        "id": "h53onrfreIVA",
        "outputId": "af3834e5-e1c5-4304-9dff-4b833ade5a7d"
      },
      "execution_count": null,
      "outputs": [
        {
          "output_type": "execute_result",
          "data": {
            "text/plain": [
              "tensor([[7.7544e-01, 3.9675e-01, 6.5804e-01],\n",
              "        [8.2374e-04, 6.0985e-01, 6.2309e-01],\n",
              "        [2.6951e-01, 9.2112e-01, 9.5311e-02],\n",
              "        [5.0537e-01, 8.0570e-01, 4.0739e-01],\n",
              "        [9.6782e-01, 3.3803e-01, 4.8245e-01]])"
            ]
          },
          "metadata": {},
          "execution_count": 3
        }
      ]
    },
    {
      "cell_type": "markdown",
      "source": [
        "## Importing PyTorch"
      ],
      "metadata": {
        "id": "umJNTPNed0HY"
      }
    },
    {
      "cell_type": "code",
      "execution_count": null,
      "metadata": {
        "colab": {
          "base_uri": "https://localhost:8080/",
          "height": 34
        },
        "id": "C-o5tl6Kdo2g",
        "outputId": "242f45bc-0ef4-4635-f67f-b60f01d36975"
      },
      "outputs": [
        {
          "output_type": "execute_result",
          "data": {
            "text/plain": [
              "'2.1.0+cu121'"
            ],
            "application/vnd.google.colaboratory.intrinsic+json": {
              "type": "string"
            }
          },
          "metadata": {},
          "execution_count": 4
        }
      ],
      "source": [
        "import torch\n",
        "\n",
        "torch.__version__"
      ]
    },
    {
      "cell_type": "markdown",
      "source": [
        "Torch defines 10 tensor types with CPU and GPU variants which are as follows"
      ],
      "metadata": {
        "id": "9bu9lfBGe1qK"
      }
    },
    {
      "cell_type": "markdown",
      "source": [
        "## Data types"
      ],
      "metadata": {
        "id": "GOHwDemXe6RP"
      }
    },
    {
      "cell_type": "markdown",
      "source": [
        "32-bit floating point"
      ],
      "metadata": {
        "id": "2IpE1iLGfPTe"
      }
    },
    {
      "cell_type": "code",
      "source": [
        "# dtype\n",
        "print(torch.float32, torch.float)\n",
        "\n",
        "# CPU tensor\n",
        "print(torch.FloatTensor)\n",
        "\n",
        "# GPU tensor\n",
        "print(torch.cuda.FloatTensor)"
      ],
      "metadata": {
        "colab": {
          "base_uri": "https://localhost:8080/"
        },
        "id": "BBHC9a5de9y9",
        "outputId": "580bd27d-d666-445a-f510-8297d8abcac8"
      },
      "execution_count": null,
      "outputs": [
        {
          "output_type": "stream",
          "name": "stdout",
          "text": [
            "torch.float32 torch.float32\n",
            "<class 'torch.FloatTensor'>\n",
            "<class 'torch.cuda.FloatTensor'>\n"
          ]
        }
      ]
    },
    {
      "cell_type": "markdown",
      "source": [
        "64-bit floating point"
      ],
      "metadata": {
        "id": "hC3-dCnYfgT5"
      }
    },
    {
      "cell_type": "code",
      "source": [
        "# dtype\n",
        "print(torch.float64, torch.double)\n",
        "\n",
        "# CPU tensor\n",
        "print(torch.DoubleTensor)\n",
        "\n",
        "# GPU tensor\n",
        "print(torch.cuda.DoubleTensor)"
      ],
      "metadata": {
        "colab": {
          "base_uri": "https://localhost:8080/"
        },
        "id": "ObqhpAv_fix1",
        "outputId": "42b265f3-7800-468a-d5c5-583cf4f217d5"
      },
      "execution_count": null,
      "outputs": [
        {
          "output_type": "stream",
          "name": "stdout",
          "text": [
            "torch.float64 torch.float64\n",
            "<class 'torch.DoubleTensor'>\n",
            "<class 'torch.cuda.DoubleTensor'>\n"
          ]
        }
      ]
    },
    {
      "cell_type": "markdown",
      "source": [
        "16-bit floating point 1 - for higher precission instead of range (common)"
      ],
      "metadata": {
        "id": "WVtfb8cZfv0p"
      }
    },
    {
      "cell_type": "code",
      "source": [
        "# dtype\n",
        "print(torch.float16, torch.half)\n",
        "\n",
        "# CPU tensor\n",
        "print(torch.HalfTensor)\n",
        "\n",
        "# GPU tensor\n",
        "print(torch.cuda.HalfTensor)"
      ],
      "metadata": {
        "colab": {
          "base_uri": "https://localhost:8080/"
        },
        "id": "tohEUss9fyCF",
        "outputId": "7c7bbc1c-d4fb-4715-ede6-f1e9df5d0b24"
      },
      "execution_count": null,
      "outputs": [
        {
          "output_type": "stream",
          "name": "stdout",
          "text": [
            "torch.float16 torch.float16\n",
            "<class 'torch.HalfTensor'>\n",
            "<class 'torch.cuda.HalfTensor'>\n"
          ]
        }
      ]
    },
    {
      "cell_type": "markdown",
      "source": [
        "16-bit floating point 2 - for higher range instead of precission (not common)"
      ],
      "metadata": {
        "id": "mBWm45F_f5MP"
      }
    },
    {
      "cell_type": "code",
      "source": [
        "# dtype\n",
        "print(torch.float32, torch.float)\n",
        "\n",
        "# CPU tensor\n",
        "print(torch.FloatTensor)\n",
        "\n",
        "# GPU tensor\n",
        "print(torch.cuda.FloatTensor)"
      ],
      "metadata": {
        "colab": {
          "base_uri": "https://localhost:8080/"
        },
        "id": "IwluFx30f85x",
        "outputId": "be664e4c-b4ed-4412-ffc1-f70e07799697"
      },
      "execution_count": null,
      "outputs": [
        {
          "output_type": "stream",
          "name": "stdout",
          "text": [
            "torch.float32 torch.float32\n",
            "<class 'torch.FloatTensor'>\n",
            "<class 'torch.cuda.FloatTensor'>\n"
          ]
        }
      ]
    }
  ]
}