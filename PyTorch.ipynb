{
  "nbformat": 4,
  "nbformat_minor": 0,
  "metadata": {
    "colab": {
      "provenance": [],
      "gpuType": "V100",
      "authorship_tag": "ABX9TyO1TN4EQMM1OvvLVnKxdG9A",
      "include_colab_link": true
    },
    "kernelspec": {
      "name": "python3",
      "display_name": "Python 3"
    },
    "language_info": {
      "name": "python"
    },
    "accelerator": "GPU"
  },
  "cells": [
    {
      "cell_type": "markdown",
      "metadata": {
        "id": "view-in-github",
        "colab_type": "text"
      },
      "source": [
        "<a href=\"https://colab.research.google.com/github/AdrianSKazi/PyTorch/blob/main/PyTorch.ipynb\" target=\"_parent\"><img src=\"https://colab.research.google.com/assets/colab-badge.svg\" alt=\"Open In Colab\"/></a>"
      ]
    },
    {
      "cell_type": "markdown",
      "source": [
        "# 00. PyTorch Fundamentals"
      ],
      "metadata": {
        "id": "JnTmzbvvdxUw"
      }
    },
    {
      "cell_type": "markdown",
      "source": [
        "## PyTorch Setup"
      ],
      "metadata": {
        "id": "tC3YN9rheCBP"
      }
    },
    {
      "cell_type": "code",
      "source": [
        "pip install torch torchvision"
      ],
      "metadata": {
        "colab": {
          "base_uri": "https://localhost:8080/"
        },
        "id": "qZCEeWAFeDvp",
        "outputId": "1c79df54-c413-4c6b-8930-b03c5aae6e01"
      },
      "execution_count": 3,
      "outputs": [
        {
          "output_type": "stream",
          "name": "stdout",
          "text": [
            "Requirement already satisfied: torch in /usr/local/lib/python3.10/dist-packages (2.1.0+cu121)\n",
            "Requirement already satisfied: torchvision in /usr/local/lib/python3.10/dist-packages (0.16.0+cu121)\n",
            "Requirement already satisfied: filelock in /usr/local/lib/python3.10/dist-packages (from torch) (3.13.1)\n",
            "Requirement already satisfied: typing-extensions in /usr/local/lib/python3.10/dist-packages (from torch) (4.5.0)\n",
            "Requirement already satisfied: sympy in /usr/local/lib/python3.10/dist-packages (from torch) (1.12)\n",
            "Requirement already satisfied: networkx in /usr/local/lib/python3.10/dist-packages (from torch) (3.2.1)\n",
            "Requirement already satisfied: jinja2 in /usr/local/lib/python3.10/dist-packages (from torch) (3.1.2)\n",
            "Requirement already satisfied: fsspec in /usr/local/lib/python3.10/dist-packages (from torch) (2023.6.0)\n",
            "Requirement already satisfied: triton==2.1.0 in /usr/local/lib/python3.10/dist-packages (from torch) (2.1.0)\n",
            "Requirement already satisfied: numpy in /usr/local/lib/python3.10/dist-packages (from torchvision) (1.23.5)\n",
            "Requirement already satisfied: requests in /usr/local/lib/python3.10/dist-packages (from torchvision) (2.31.0)\n",
            "Requirement already satisfied: pillow!=8.3.*,>=5.3.0 in /usr/local/lib/python3.10/dist-packages (from torchvision) (9.4.0)\n",
            "Requirement already satisfied: MarkupSafe>=2.0 in /usr/local/lib/python3.10/dist-packages (from jinja2->torch) (2.1.3)\n",
            "Requirement already satisfied: charset-normalizer<4,>=2 in /usr/local/lib/python3.10/dist-packages (from requests->torchvision) (3.3.2)\n",
            "Requirement already satisfied: idna<4,>=2.5 in /usr/local/lib/python3.10/dist-packages (from requests->torchvision) (3.6)\n",
            "Requirement already satisfied: urllib3<3,>=1.21.1 in /usr/local/lib/python3.10/dist-packages (from requests->torchvision) (2.0.7)\n",
            "Requirement already satisfied: certifi>=2017.4.17 in /usr/local/lib/python3.10/dist-packages (from requests->torchvision) (2023.11.17)\n",
            "Requirement already satisfied: mpmath>=0.19 in /usr/local/lib/python3.10/dist-packages (from sympy->torch) (1.3.0)\n"
          ]
        }
      ]
    },
    {
      "cell_type": "markdown",
      "source": [
        "Test"
      ],
      "metadata": {
        "id": "Tql5zPuzeXD2"
      }
    },
    {
      "cell_type": "code",
      "source": [
        "import torch\n",
        "\n",
        "x = torch.rand(5, 3)\n",
        "x"
      ],
      "metadata": {
        "colab": {
          "base_uri": "https://localhost:8080/"
        },
        "id": "h53onrfreIVA",
        "outputId": "03cdb3b9-128a-409f-8dc6-1854e5cfe1c1"
      },
      "execution_count": 4,
      "outputs": [
        {
          "output_type": "execute_result",
          "data": {
            "text/plain": [
              "tensor([[0.6623, 0.8158, 0.4782],\n",
              "        [0.8828, 0.4207, 0.4455],\n",
              "        [0.1691, 0.6912, 0.2281],\n",
              "        [0.1145, 0.1541, 0.3706],\n",
              "        [0.6297, 0.6038, 0.3811]])"
            ]
          },
          "metadata": {},
          "execution_count": 4
        }
      ]
    },
    {
      "cell_type": "markdown",
      "source": [
        "## Importing PyTorch"
      ],
      "metadata": {
        "id": "umJNTPNed0HY"
      }
    },
    {
      "cell_type": "code",
      "execution_count": 5,
      "metadata": {
        "colab": {
          "base_uri": "https://localhost:8080/",
          "height": 34
        },
        "id": "C-o5tl6Kdo2g",
        "outputId": "e185d296-c7eb-47ee-9242-30b0cd0fe1aa"
      },
      "outputs": [
        {
          "output_type": "execute_result",
          "data": {
            "text/plain": [
              "'2.1.0+cu121'"
            ],
            "application/vnd.google.colaboratory.intrinsic+json": {
              "type": "string"
            }
          },
          "metadata": {},
          "execution_count": 5
        }
      ],
      "source": [
        "import torch\n",
        "\n",
        "torch.__version__"
      ]
    },
    {
      "cell_type": "markdown",
      "source": [
        "Torch defines 10 tensor types with CPU and GPU variants which are as follows"
      ],
      "metadata": {
        "id": "9bu9lfBGe1qK"
      }
    },
    {
      "cell_type": "markdown",
      "source": [
        "## Data types"
      ],
      "metadata": {
        "id": "GOHwDemXe6RP"
      }
    },
    {
      "cell_type": "markdown",
      "source": [
        "32-bit floating point"
      ],
      "metadata": {
        "id": "2IpE1iLGfPTe"
      }
    },
    {
      "cell_type": "code",
      "source": [
        "# dtype\n",
        "print(torch.float32, torch.float)\n",
        "\n",
        "# CPU tensor\n",
        "print(torch.FloatTensor)\n",
        "\n",
        "# GPU tensor\n",
        "print(torch.cuda.FloatTensor)"
      ],
      "metadata": {
        "colab": {
          "base_uri": "https://localhost:8080/"
        },
        "id": "BBHC9a5de9y9",
        "outputId": "2bb832e7-7187-481f-f6b4-fd1f1cf26c92"
      },
      "execution_count": 6,
      "outputs": [
        {
          "output_type": "stream",
          "name": "stdout",
          "text": [
            "torch.float32 torch.float32\n",
            "<class 'torch.FloatTensor'>\n",
            "<class 'torch.cuda.FloatTensor'>\n"
          ]
        }
      ]
    },
    {
      "cell_type": "markdown",
      "source": [
        "64-bit floating point"
      ],
      "metadata": {
        "id": "hC3-dCnYfgT5"
      }
    },
    {
      "cell_type": "code",
      "source": [
        "# dtype\n",
        "print(torch.float64, torch.double)\n",
        "\n",
        "# CPU tensor\n",
        "print(torch.DoubleTensor)\n",
        "\n",
        "# GPU tensor\n",
        "print(torch.cuda.DoubleTensor)"
      ],
      "metadata": {
        "colab": {
          "base_uri": "https://localhost:8080/"
        },
        "id": "ObqhpAv_fix1",
        "outputId": "28b22556-9550-4ca5-892e-24d8f764f65c"
      },
      "execution_count": 7,
      "outputs": [
        {
          "output_type": "stream",
          "name": "stdout",
          "text": [
            "torch.float64 torch.float64\n",
            "<class 'torch.DoubleTensor'>\n",
            "<class 'torch.cuda.DoubleTensor'>\n"
          ]
        }
      ]
    },
    {
      "cell_type": "markdown",
      "source": [
        "16-bit floating point 1 - for higher precission instead of range (common)"
      ],
      "metadata": {
        "id": "WVtfb8cZfv0p"
      }
    },
    {
      "cell_type": "code",
      "source": [
        "# dtype\n",
        "print(torch.float16, torch.half)\n",
        "\n",
        "# CPU tensor\n",
        "print(torch.HalfTensor)\n",
        "\n",
        "# GPU tensor\n",
        "print(torch.cuda.HalfTensor)"
      ],
      "metadata": {
        "colab": {
          "base_uri": "https://localhost:8080/"
        },
        "id": "tohEUss9fyCF",
        "outputId": "d33682ef-6878-4623-a0c5-b99d7c7dda5c"
      },
      "execution_count": 8,
      "outputs": [
        {
          "output_type": "stream",
          "name": "stdout",
          "text": [
            "torch.float16 torch.float16\n",
            "<class 'torch.HalfTensor'>\n",
            "<class 'torch.cuda.HalfTensor'>\n"
          ]
        }
      ]
    },
    {
      "cell_type": "markdown",
      "source": [
        "16-bit floating point 2 - for higher range instead of precission (not common)"
      ],
      "metadata": {
        "id": "mBWm45F_f5MP"
      }
    },
    {
      "cell_type": "code",
      "source": [
        "# dtype\n",
        "print(torch.float32, torch.float)\n",
        "\n",
        "# CPU tensor\n",
        "print(torch.FloatTensor)\n",
        "\n",
        "# GPU tensor\n",
        "print(torch.cuda.FloatTensor)"
      ],
      "metadata": {
        "colab": {
          "base_uri": "https://localhost:8080/"
        },
        "id": "IwluFx30f85x",
        "outputId": "60d1326c-8264-4c48-ebc2-d358ecd33834"
      },
      "execution_count": 9,
      "outputs": [
        {
          "output_type": "stream",
          "name": "stdout",
          "text": [
            "torch.float32 torch.float32\n",
            "<class 'torch.FloatTensor'>\n",
            "<class 'torch.cuda.FloatTensor'>\n"
          ]
        }
      ]
    },
    {
      "cell_type": "markdown",
      "source": [
        "32-bit complex![Screenshot 2024-01-09 at 17.16.28.png](data:image/png;base64,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)"
      ],
      "metadata": {
        "id": "e73Z4EWUiSoi"
      }
    },
    {
      "cell_type": "code",
      "source": [
        "torch.complex32, torch.chalf"
      ],
      "metadata": {
        "colab": {
          "base_uri": "https://localhost:8080/"
        },
        "id": "bFGbSFKqiUbj",
        "outputId": "ba384598-810f-4a71-beef-c4d6be777d3d"
      },
      "execution_count": 10,
      "outputs": [
        {
          "output_type": "execute_result",
          "data": {
            "text/plain": [
              "(torch.complex32, torch.complex32)"
            ]
          },
          "metadata": {},
          "execution_count": 10
        }
      ]
    },
    {
      "cell_type": "markdown",
      "source": [
        "64-bit complex"
      ],
      "metadata": {
        "id": "26GLZ1uaibbZ"
      }
    },
    {
      "cell_type": "code",
      "source": [
        "torch.complex64, torch.cfloat"
      ],
      "metadata": {
        "colab": {
          "base_uri": "https://localhost:8080/"
        },
        "id": "mEksi63Iicmo",
        "outputId": "7b6701f5-aba8-4d1f-a4d8-341131b474ff"
      },
      "execution_count": 11,
      "outputs": [
        {
          "output_type": "execute_result",
          "data": {
            "text/plain": [
              "(torch.complex64, torch.complex64)"
            ]
          },
          "metadata": {},
          "execution_count": 11
        }
      ]
    },
    {
      "cell_type": "markdown",
      "source": [
        "128-bit complex"
      ],
      "metadata": {
        "id": "_M1p0DU6ihKS"
      }
    },
    {
      "cell_type": "code",
      "source": [
        "torch.complex64, torch.cdouble"
      ],
      "metadata": {
        "colab": {
          "base_uri": "https://localhost:8080/"
        },
        "id": "fCfeP3bnijk3",
        "outputId": "374ce256-291b-4c13-8229-b445bf566341"
      },
      "execution_count": 12,
      "outputs": [
        {
          "output_type": "execute_result",
          "data": {
            "text/plain": [
              "(torch.complex64, torch.complex128)"
            ]
          },
          "metadata": {},
          "execution_count": 12
        }
      ]
    },
    {
      "cell_type": "markdown",
      "source": [
        "8-bit integer (unsigned)"
      ],
      "metadata": {
        "id": "0gxol95firx2"
      }
    },
    {
      "cell_type": "code",
      "source": [
        "# dtype\n",
        "print(torch.uint8)\n",
        "\n",
        "# CPU tensor\n",
        "print(torch.ByteTensor)\n",
        "\n",
        "# GPU tensor\n",
        "print(torch.cuda.ByteTensor)"
      ],
      "metadata": {
        "colab": {
          "base_uri": "https://localhost:8080/"
        },
        "id": "wjVmzrI5iuNK",
        "outputId": "c6f67c21-de55-4dc6-ec69-1edad27705f6"
      },
      "execution_count": 13,
      "outputs": [
        {
          "output_type": "stream",
          "name": "stdout",
          "text": [
            "torch.uint8\n",
            "<class 'torch.ByteTensor'>\n",
            "<class 'torch.cuda.ByteTensor'>\n"
          ]
        }
      ]
    },
    {
      "cell_type": "markdown",
      "source": [
        "8-bit integer (signed)"
      ],
      "metadata": {
        "id": "xlNfDa5Wi6CI"
      }
    },
    {
      "cell_type": "code",
      "source": [
        "# dtype\n",
        "print(torch.int8)\n",
        "\n",
        "# CPU tensor\n",
        "print(torch.CharTensor)\n",
        "\n",
        "# GPU tensor\n",
        "print(torch.cuda.CharTensor)"
      ],
      "metadata": {
        "colab": {
          "base_uri": "https://localhost:8080/"
        },
        "id": "wINv7ZeCi76D",
        "outputId": "410a3317-52b0-45cd-a37f-6f970279503f"
      },
      "execution_count": 14,
      "outputs": [
        {
          "output_type": "stream",
          "name": "stdout",
          "text": [
            "torch.int8\n",
            "<class 'torch.CharTensor'>\n",
            "<class 'torch.cuda.CharTensor'>\n"
          ]
        }
      ]
    },
    {
      "cell_type": "markdown",
      "source": [
        "16-bit integer (signed)"
      ],
      "metadata": {
        "id": "3sVwwbQkjXzO"
      }
    },
    {
      "cell_type": "code",
      "source": [
        "# dtype\n",
        "print(torch.int16, torch.short)\n",
        "\n",
        "# CPU tensor\n",
        "print(torch.ShortTensor)\n",
        "\n",
        "# GPU tensor\n",
        "print(torch.cuda.ShortTensor)"
      ],
      "metadata": {
        "colab": {
          "base_uri": "https://localhost:8080/"
        },
        "id": "x-3PvxyJjZ2e",
        "outputId": "776b7cc8-a483-4cb3-e3c1-12d72e283f2d"
      },
      "execution_count": 15,
      "outputs": [
        {
          "output_type": "stream",
          "name": "stdout",
          "text": [
            "torch.int16 torch.int16\n",
            "<class 'torch.ShortTensor'>\n",
            "<class 'torch.cuda.ShortTensor'>\n"
          ]
        }
      ]
    },
    {
      "cell_type": "markdown",
      "source": [
        "32-bit integer (signed)"
      ],
      "metadata": {
        "id": "wW5MP6Sfjhhn"
      }
    },
    {
      "cell_type": "code",
      "source": [
        "# dtype\n",
        "print(torch.int32, torch.int)\n",
        "\n",
        "# CPU tensor\n",
        "print(torch.IntTensor)\n",
        "\n",
        "# GPU tensor\n",
        "print(torch.cuda.IntTensor)"
      ],
      "metadata": {
        "colab": {
          "base_uri": "https://localhost:8080/"
        },
        "id": "1-ON1BB7jj-t",
        "outputId": "5d37b3f0-d23c-4027-f809-57f77806413b"
      },
      "execution_count": 16,
      "outputs": [
        {
          "output_type": "stream",
          "name": "stdout",
          "text": [
            "torch.int32 torch.int32\n",
            "<class 'torch.IntTensor'>\n",
            "<class 'torch.cuda.IntTensor'>\n"
          ]
        }
      ]
    },
    {
      "cell_type": "markdown",
      "source": [
        "64-bit integer (signed)"
      ],
      "metadata": {
        "id": "KprzFll-jwgj"
      }
    },
    {
      "cell_type": "code",
      "source": [
        "# dtype\n",
        "print(torch.int64, torch.LongTensor)\n",
        "\n",
        "# CPU tensor\n",
        "print(torch.LongTensor)\n",
        "\n",
        "# GPU tensor\n",
        "print(torch.cuda.LongTensor)"
      ],
      "metadata": {
        "colab": {
          "base_uri": "https://localhost:8080/"
        },
        "id": "GnLb2Xlhjyet",
        "outputId": "add43999-13c3-4993-b9d2-11bc61576c0a"
      },
      "execution_count": 17,
      "outputs": [
        {
          "output_type": "stream",
          "name": "stdout",
          "text": [
            "torch.int64 <class 'torch.LongTensor'>\n",
            "<class 'torch.LongTensor'>\n",
            "<class 'torch.cuda.LongTensor'>\n"
          ]
        }
      ]
    },
    {
      "cell_type": "markdown",
      "source": [
        "Boolean"
      ],
      "metadata": {
        "id": "H5XK958gjTfA"
      }
    },
    {
      "cell_type": "code",
      "source": [
        "# dtype\n",
        "print(torch.bool)\n",
        "\n",
        "# CPU tensor\n",
        "print(torch.BoolTensor)\n",
        "\n",
        "# GPU tensor\n",
        "print(torch.cuda.BoolTensor)"
      ],
      "metadata": {
        "colab": {
          "base_uri": "https://localhost:8080/"
        },
        "id": "HmfeCT_vjUiX",
        "outputId": "de36942d-6987-4576-e460-5bdd0f74bbaf"
      },
      "execution_count": 18,
      "outputs": [
        {
          "output_type": "stream",
          "name": "stdout",
          "text": [
            "torch.bool\n",
            "<class 'torch.BoolTensor'>\n",
            "<class 'torch.cuda.BoolTensor'>\n"
          ]
        }
      ]
    },
    {
      "cell_type": "markdown",
      "source": [
        "Quantized 8-bit integer (unsigned)"
      ],
      "metadata": {
        "id": "tVahGmkRj_LD"
      }
    },
    {
      "cell_type": "code",
      "source": [
        "# dtype\n",
        "print(torch.quint8)\n",
        "\n",
        "# CPU tensor\n",
        "print(torch.ByteTensor)"
      ],
      "metadata": {
        "colab": {
          "base_uri": "https://localhost:8080/"
        },
        "id": "BhSEi6oUkCto",
        "outputId": "1b4b35de-6958-41ff-fd82-8b787c60f1d0"
      },
      "execution_count": 19,
      "outputs": [
        {
          "output_type": "stream",
          "name": "stdout",
          "text": [
            "torch.quint8\n",
            "<class 'torch.ByteTensor'>\n"
          ]
        }
      ]
    },
    {
      "cell_type": "markdown",
      "source": [
        "Quantized 8-bit integer (signed)"
      ],
      "metadata": {
        "id": "Q2OCs6vxkJCO"
      }
    },
    {
      "cell_type": "code",
      "source": [
        "# dtype\n",
        "print(torch.qint8)\n",
        "\n",
        "# CPU tensor\n",
        "print(torch.CharTensor)"
      ],
      "metadata": {
        "colab": {
          "base_uri": "https://localhost:8080/"
        },
        "id": "W4YCFy5DkL3l",
        "outputId": "586ce0ee-8306-44b9-ef69-9810f26b08b3"
      },
      "execution_count": 20,
      "outputs": [
        {
          "output_type": "stream",
          "name": "stdout",
          "text": [
            "torch.qint8\n",
            "<class 'torch.CharTensor'>\n"
          ]
        }
      ]
    },
    {
      "cell_type": "markdown",
      "source": [
        "Quantized 32-bit integer (signed)"
      ],
      "metadata": {
        "id": "cLDBdnMAkXml"
      }
    },
    {
      "cell_type": "code",
      "source": [
        "# dtype\n",
        "print(torch.qint32)\n",
        "\n",
        "# CPU tensor\n",
        "print(torch.IntTensor)"
      ],
      "metadata": {
        "colab": {
          "base_uri": "https://localhost:8080/"
        },
        "id": "ibo01dwAkaXK",
        "outputId": "d9fd6896-af41-473e-e792-cf527151ac1b"
      },
      "execution_count": 21,
      "outputs": [
        {
          "output_type": "stream",
          "name": "stdout",
          "text": [
            "torch.qint32\n",
            "<class 'torch.IntTensor'>\n"
          ]
        }
      ]
    },
    {
      "cell_type": "markdown",
      "source": [
        "Quantized 4-bit integer (unsigned)"
      ],
      "metadata": {
        "id": "mR7frAZGkg6w"
      }
    },
    {
      "cell_type": "code",
      "source": [
        "# dtype\n",
        "print(torch.quint4x2)\n",
        "\n",
        "# CPU tensor\n",
        "print(torch.ByteTensor)"
      ],
      "metadata": {
        "colab": {
          "base_uri": "https://localhost:8080/"
        },
        "id": "yTqW6rzdkkOe",
        "outputId": "9c9d4918-1a77-4112-898f-b0b76a4f1f50"
      },
      "execution_count": 22,
      "outputs": [
        {
          "output_type": "stream",
          "name": "stdout",
          "text": [
            "torch.quint4x2\n",
            "<class 'torch.ByteTensor'>\n"
          ]
        }
      ]
    },
    {
      "cell_type": "markdown",
      "source": [
        "## Initializing and basic operations"
      ],
      "metadata": {
        "id": "IxeMb4gwk6q-"
      }
    },
    {
      "cell_type": "markdown",
      "source": [
        "Tensor can be constructed from a Python list or sequence using the torch.tensor() constructor"
      ],
      "metadata": {
        "id": "UgIINX7pk--7"
      }
    },
    {
      "cell_type": "code",
      "source": [
        "torch.tensor([[1., -1.], [1, -1]])"
      ],
      "metadata": {
        "colab": {
          "base_uri": "https://localhost:8080/"
        },
        "id": "CRhq8hywk-Ql",
        "outputId": "d7a5f27f-ea63-42a5-a726-fc75a557739e"
      },
      "execution_count": 23,
      "outputs": [
        {
          "output_type": "execute_result",
          "data": {
            "text/plain": [
              "tensor([[ 1., -1.],\n",
              "        [ 1., -1.]])"
            ]
          },
          "metadata": {},
          "execution_count": 23
        }
      ]
    },
    {
      "cell_type": "code",
      "source": [
        "import numpy as np\n",
        "\n",
        "torch.tensor(np.array([[1,2,3], [4,5,6]]))"
      ],
      "metadata": {
        "colab": {
          "base_uri": "https://localhost:8080/"
        },
        "id": "-HDvBj9dlMsd",
        "outputId": "c8674efc-aa2d-4c28-f57b-37dbee8d4bfa"
      },
      "execution_count": 24,
      "outputs": [
        {
          "output_type": "execute_result",
          "data": {
            "text/plain": [
              "tensor([[1, 2, 3],\n",
              "        [4, 5, 6]])"
            ]
          },
          "metadata": {},
          "execution_count": 24
        }
      ]
    },
    {
      "cell_type": "markdown",
      "source": [
        "torch.tensor() always copies data. If you have a Tensor data and just want to change its requires_grad flag. Use `requires_grad_()` or `detach()` to avoid a copy. If you have a numpy array and want to avoid a copy, use `torch.as_tensor()`"
      ],
      "metadata": {
        "id": "R_9yPT4dldxh"
      }
    },
    {
      "cell_type": "markdown",
      "source": [
        "A tensor or specific data type can be sonstructed by passing a torch.dtype and/or a torch.device to a constructor or tensor creation op"
      ],
      "metadata": {
        "id": "3XUjScGsmENx"
      }
    },
    {
      "cell_type": "code",
      "source": [
        "torch.zeros([2, 4], dtype = torch.int32)"
      ],
      "metadata": {
        "colab": {
          "base_uri": "https://localhost:8080/"
        },
        "id": "COnsbx5bmKjQ",
        "outputId": "cc9aaa89-69e3-4431-e2b4-65160ef97a50"
      },
      "execution_count": 25,
      "outputs": [
        {
          "output_type": "execute_result",
          "data": {
            "text/plain": [
              "tensor([[0, 0, 0, 0],\n",
              "        [0, 0, 0, 0]], dtype=torch.int32)"
            ]
          },
          "metadata": {},
          "execution_count": 25
        }
      ]
    },
    {
      "cell_type": "code",
      "source": [
        "cuda0 = torch.device('cuda:0')\n",
        "torch.ones([2, 4], dtype = torch.float64, device = cuda0)"
      ],
      "metadata": {
        "colab": {
          "base_uri": "https://localhost:8080/"
        },
        "id": "Q49SbCAtmPJh",
        "outputId": "7ea47cf2-f1c4-4cbc-c5ae-04d86e210ee0"
      },
      "execution_count": 26,
      "outputs": [
        {
          "output_type": "execute_result",
          "data": {
            "text/plain": [
              "tensor([[1., 1., 1., 1.],\n",
              "        [1., 1., 1., 1.]], device='cuda:0', dtype=torch.float64)"
            ]
          },
          "metadata": {},
          "execution_count": 26
        }
      ]
    },
    {
      "cell_type": "markdown",
      "source": [
        "The contents of a tensor can be accessed and modified using Python's indexing and slicing notation"
      ],
      "metadata": {
        "id": "KkhWSNwwmofp"
      }
    },
    {
      "cell_type": "code",
      "source": [
        "x = torch.tensor([[1,2,3],[4,5,6]])\n",
        "x[1][2], x[0][1]"
      ],
      "metadata": {
        "colab": {
          "base_uri": "https://localhost:8080/"
        },
        "id": "m7iMFFL7mulA",
        "outputId": "f271effe-8d31-4270-c608-f789348c97ef"
      },
      "execution_count": 27,
      "outputs": [
        {
          "output_type": "execute_result",
          "data": {
            "text/plain": [
              "(tensor(6), tensor(2))"
            ]
          },
          "metadata": {},
          "execution_count": 27
        }
      ]
    },
    {
      "cell_type": "code",
      "source": [
        "x[0][1] = 1000\n",
        "\n",
        "x"
      ],
      "metadata": {
        "colab": {
          "base_uri": "https://localhost:8080/"
        },
        "id": "s3SqX9VRm7aW",
        "outputId": "b59df754-4d8d-41e1-8b42-39c5da6576ee"
      },
      "execution_count": 28,
      "outputs": [
        {
          "output_type": "execute_result",
          "data": {
            "text/plain": [
              "tensor([[   1, 1000,    3],\n",
              "        [   4,    5,    6]])"
            ]
          },
          "metadata": {},
          "execution_count": 28
        }
      ]
    },
    {
      "cell_type": "markdown",
      "source": [
        "Use torch.Tensor.item() to egt a Python number from a tensor containing a single value"
      ],
      "metadata": {
        "id": "c_smqr8UnAVY"
      }
    },
    {
      "cell_type": "code",
      "source": [
        "x = torch.tensor([[1]])\n",
        "x"
      ],
      "metadata": {
        "colab": {
          "base_uri": "https://localhost:8080/"
        },
        "id": "_d6fqV7AnG8r",
        "outputId": "9558c324-fff8-4517-fb88-cdd0d75fd24d"
      },
      "execution_count": 29,
      "outputs": [
        {
          "output_type": "execute_result",
          "data": {
            "text/plain": [
              "tensor([[1]])"
            ]
          },
          "metadata": {},
          "execution_count": 29
        }
      ]
    },
    {
      "cell_type": "code",
      "source": [
        "x.item()"
      ],
      "metadata": {
        "colab": {
          "base_uri": "https://localhost:8080/"
        },
        "id": "vEHxq-LunQi1",
        "outputId": "44ed818a-53dc-4e3e-f5a4-62abc5e90506"
      },
      "execution_count": 30,
      "outputs": [
        {
          "output_type": "execute_result",
          "data": {
            "text/plain": [
              "1"
            ]
          },
          "metadata": {},
          "execution_count": 30
        }
      ]
    },
    {
      "cell_type": "code",
      "source": [
        "x = torch.tensor(2.5)\n",
        "x"
      ],
      "metadata": {
        "colab": {
          "base_uri": "https://localhost:8080/"
        },
        "id": "d2ydR7oInSYP",
        "outputId": "093660ad-e0e5-44a9-fc09-6f8447d1b479"
      },
      "execution_count": 31,
      "outputs": [
        {
          "output_type": "execute_result",
          "data": {
            "text/plain": [
              "tensor(2.5000)"
            ]
          },
          "metadata": {},
          "execution_count": 31
        }
      ]
    },
    {
      "cell_type": "code",
      "source": [
        "x.item()"
      ],
      "metadata": {
        "colab": {
          "base_uri": "https://localhost:8080/"
        },
        "id": "yPcLQI0EnVb_",
        "outputId": "f6158972-05db-475f-f305-25cde68bad26"
      },
      "execution_count": 32,
      "outputs": [
        {
          "output_type": "execute_result",
          "data": {
            "text/plain": [
              "2.5"
            ]
          },
          "metadata": {},
          "execution_count": 32
        }
      ]
    },
    {
      "cell_type": "markdown",
      "source": [
        "A tensor can be created with `requires_grad = True` so that torch.autograd records operations on them for automatic differentiation"
      ],
      "metadata": {
        "id": "4yJ9uNhEneM3"
      }
    },
    {
      "cell_type": "code",
      "source": [
        "x = torch.tensor([[1., -1.], [1., 1.]], requires_grad = True)\n",
        "out = x.pow(2).sum()\n",
        "out"
      ],
      "metadata": {
        "colab": {
          "base_uri": "https://localhost:8080/"
        },
        "id": "pQprobQPn1zc",
        "outputId": "3634d280-7969-4676-9627-a772707fae94"
      },
      "execution_count": 33,
      "outputs": [
        {
          "output_type": "execute_result",
          "data": {
            "text/plain": [
              "tensor(4., grad_fn=<SumBackward0>)"
            ]
          },
          "metadata": {},
          "execution_count": 33
        }
      ]
    },
    {
      "cell_type": "code",
      "source": [
        "out.backward()\n",
        "x.grad"
      ],
      "metadata": {
        "colab": {
          "base_uri": "https://localhost:8080/"
        },
        "id": "ghVOd5PloEtH",
        "outputId": "d62c7ebf-3219-4ed5-f368-6234599b8b4b"
      },
      "execution_count": 34,
      "outputs": [
        {
          "output_type": "execute_result",
          "data": {
            "text/plain": [
              "tensor([[ 2., -2.],\n",
              "        [ 2.,  2.]])"
            ]
          },
          "metadata": {},
          "execution_count": 34
        }
      ]
    },
    {
      "cell_type": "markdown",
      "source": [
        "Each tensor has an associated torch.Storage, which holds its data. The tensor class also provides multi-dimensional, strided view of a storage and defines numeric operations on it."
      ],
      "metadata": {
        "id": "i78cBdIroNUa"
      }
    },
    {
      "cell_type": "markdown",
      "source": [
        "Methods which mutate a tensor are marked with an underscore suffix. For example, `torch.FloatTensor.abs_()` computes the absolute value in-place and returns the modified tensor, while `torch.FloatTensor.abs()` computes the result in a new tensor."
      ],
      "metadata": {
        "id": "9t1sGt3Bohtb"
      }
    },
    {
      "cell_type": "markdown",
      "source": [
        "## Tensor class reference"
      ],
      "metadata": {
        "id": "4s8XLVQVpHfG"
      }
    },
    {
      "cell_type": "markdown",
      "source": [
        "There are a few main ways to create a tensor, depending on your use case"
      ],
      "metadata": {
        "id": "iuyW-QmRpPzz"
      }
    },
    {
      "cell_type": "markdown",
      "source": [
        "To create a tensor with pre-existing data, use `torch.tensor()`"
      ],
      "metadata": {
        "id": "3Eg4qELPpVGg"
      }
    },
    {
      "cell_type": "code",
      "source": [
        "torch.tensor([[1,23], [2,3]])"
      ],
      "metadata": {
        "colab": {
          "base_uri": "https://localhost:8080/"
        },
        "id": "i0CTziAvpJlk",
        "outputId": "61910b54-9cf7-4543-d313-36564e419ebb"
      },
      "execution_count": 35,
      "outputs": [
        {
          "output_type": "execute_result",
          "data": {
            "text/plain": [
              "tensor([[ 1, 23],\n",
              "        [ 2,  3]])"
            ]
          },
          "metadata": {},
          "execution_count": 35
        }
      ]
    },
    {
      "cell_type": "markdown",
      "source": [
        "To create a tensor with specific size, use `torch.*` tensor [creation ops](https://pytorch.org/docs/stable/torch.html#tensor-creation-ops)"
      ],
      "metadata": {
        "id": "uSyXNeSMpeei"
      }
    },
    {
      "cell_type": "markdown",
      "source": [
        "To create a tensor with the same size (and similar types) as another tensor, use `torch.*_like` tensor [creation ops](httphttps://pytorch.org/docs/stable/torch.html#tensor-creation-opss://)"
      ],
      "metadata": {
        "id": "NgpJlL93pq1q"
      }
    },
    {
      "cell_type": "markdown",
      "source": [
        "To create a tensor with similar type but different size as another tensor, use tensor.new_* [creation ops](https://pytorch.org/docs/stable/torch.html#tensor-creation-ops)"
      ],
      "metadata": {
        "id": "a7wXkdI9p5YU"
      }
    },
    {
      "cell_type": "markdown",
      "source": [
        "## Tensor.T"
      ],
      "metadata": {
        "id": "RRzoSnj0qDEL"
      }
    },
    {
      "cell_type": "markdown",
      "source": [
        "Returns a view of this tensor with its dimensions reversed.\n",
        "\n",
        "If n is the number of dimensions in x, `x.T` is equivalent to `x.permute(n-1, n-2, ..., 0)`"
      ],
      "metadata": {
        "id": "T8abqFvIqFEO"
      }
    },
    {
      "cell_type": "code",
      "source": [
        "x = torch.tensor([[1,2,3,4],[5,6,7,8]])\n",
        "x, x.T"
      ],
      "metadata": {
        "colab": {
          "base_uri": "https://localhost:8080/"
        },
        "id": "Ulze6-3VqV-2",
        "outputId": "c5c91c18-ceaa-4931-ea55-bcc75bcdb26a"
      },
      "execution_count": 36,
      "outputs": [
        {
          "output_type": "execute_result",
          "data": {
            "text/plain": [
              "(tensor([[1, 2, 3, 4],\n",
              "         [5, 6, 7, 8]]),\n",
              " tensor([[1, 5],\n",
              "         [2, 6],\n",
              "         [3, 7],\n",
              "         [4, 8]]))"
            ]
          },
          "metadata": {},
          "execution_count": 36
        }
      ]
    },
    {
      "cell_type": "markdown",
      "source": [
        "## Tensor.H"
      ],
      "metadata": {
        "id": "ClfUpTKkqh-w"
      }
    },
    {
      "cell_type": "markdown",
      "source": [
        "Returns a view of a matrix (2-D tensor) conjugated and transposed.\n",
        "\n",
        "x.H is equivalent to `x.transpose(0, 1).conj()` for complex matrices and `x.transpose(0,1)` for real matrices."
      ],
      "metadata": {
        "id": "oDWBUc_NqyDB"
      }
    },
    {
      "cell_type": "code",
      "source": [
        "x = torch.tensor([[1,2,3,4],[5,6,7,8]])\n",
        "x, x.H"
      ],
      "metadata": {
        "colab": {
          "base_uri": "https://localhost:8080/"
        },
        "id": "XnvIfUGhqxUT",
        "outputId": "adbb31cc-5cf9-4996-c68f-dae3a33d5428"
      },
      "execution_count": 37,
      "outputs": [
        {
          "output_type": "execute_result",
          "data": {
            "text/plain": [
              "(tensor([[1, 2, 3, 4],\n",
              "         [5, 6, 7, 8]]),\n",
              " tensor([[1, 5],\n",
              "         [2, 6],\n",
              "         [3, 7],\n",
              "         [4, 8]]))"
            ]
          },
          "metadata": {},
          "execution_count": 37
        }
      ]
    },
    {
      "cell_type": "markdown",
      "source": [
        "## Tensor.mT"
      ],
      "metadata": {
        "id": "DSzMUF1drfqU"
      }
    },
    {
      "cell_type": "markdown",
      "source": [
        "Returns a view of this tensor with the last two dimensions transposed. `x.mT` is equivalent to `x.transpose(-2,-1)`."
      ],
      "metadata": {
        "id": "rxNdgVLBrhWl"
      }
    },
    {
      "cell_type": "code",
      "source": [
        "x = torch.tensor([[[1,2,3,4],[5,6,7,8]],[[1,2,3,4],[5,6,7,8]]])\n",
        "x, x.mT"
      ],
      "metadata": {
        "colab": {
          "base_uri": "https://localhost:8080/"
        },
        "id": "t3C_D_Tmr239",
        "outputId": "0ea6ba49-087c-4956-a96f-33d127913453"
      },
      "execution_count": 38,
      "outputs": [
        {
          "output_type": "execute_result",
          "data": {
            "text/plain": [
              "(tensor([[[1, 2, 3, 4],\n",
              "          [5, 6, 7, 8]],\n",
              " \n",
              "         [[1, 2, 3, 4],\n",
              "          [5, 6, 7, 8]]]),\n",
              " tensor([[[1, 5],\n",
              "          [2, 6],\n",
              "          [3, 7],\n",
              "          [4, 8]],\n",
              " \n",
              "         [[1, 5],\n",
              "          [2, 6],\n",
              "          [3, 7],\n",
              "          [4, 8]]]))"
            ]
          },
          "metadata": {},
          "execution_count": 38
        }
      ]
    },
    {
      "cell_type": "markdown",
      "source": [
        "## Tensor.mH"
      ],
      "metadata": {
        "id": "O56sIXezrsb0"
      }
    },
    {
      "cell_type": "markdown",
      "source": [
        "Accessing this property is equivalent to calling `adjoint()`"
      ],
      "metadata": {
        "id": "HkvxChlErvA6"
      }
    },
    {
      "cell_type": "code",
      "source": [
        "x = torch.tensor([[1,2,3,4],[5,6,7,8]])\n",
        "x, x.mH"
      ],
      "metadata": {
        "colab": {
          "base_uri": "https://localhost:8080/"
        },
        "id": "EV5xalg9ruGH",
        "outputId": "192beba5-a379-444b-a75e-b23480100b40"
      },
      "execution_count": 39,
      "outputs": [
        {
          "output_type": "execute_result",
          "data": {
            "text/plain": [
              "(tensor([[1, 2, 3, 4],\n",
              "         [5, 6, 7, 8]]),\n",
              " tensor([[1, 5],\n",
              "         [2, 6],\n",
              "         [3, 7],\n",
              "         [4, 8]]))"
            ]
          },
          "metadata": {},
          "execution_count": 39
        }
      ]
    },
    {
      "cell_type": "markdown",
      "source": [
        "## Tensors operations"
      ],
      "metadata": {
        "id": "fUiiTriw3_0b"
      }
    },
    {
      "cell_type": "code",
      "source": [
        "import torch\n",
        "\n",
        "Tensor = torch.ones((2,), dtype = torch.int8)\n",
        "data = [[0,1],[2,3]]"
      ],
      "metadata": {
        "id": "pU6lZ_9S4U08"
      },
      "execution_count": 44,
      "outputs": []
    },
    {
      "cell_type": "markdown",
      "source": [
        "**Returns a new Tensor with data as the tensor data**"
      ],
      "metadata": {
        "id": "PBahqNMk5QgK"
      }
    },
    {
      "cell_type": "code",
      "source": [
        "Tensor.new_tensor(data)"
      ],
      "metadata": {
        "colab": {
          "base_uri": "https://localhost:8080/"
        },
        "id": "xVHgNDST4D8M",
        "outputId": "9dff9503-61bc-4fab-f93f-9b5c586bea5d"
      },
      "execution_count": 45,
      "outputs": [
        {
          "output_type": "execute_result",
          "data": {
            "text/plain": [
              "tensor([[0, 1],\n",
              "        [2, 3]], dtype=torch.int8)"
            ]
          },
          "metadata": {},
          "execution_count": 45
        }
      ]
    },
    {
      "cell_type": "markdown",
      "source": [
        "**Returns a Tensor of size filled with fill_value**"
      ],
      "metadata": {
        "id": "TK8C3uAk5OrJ"
      }
    },
    {
      "cell_type": "code",
      "source": [
        "Tensor.new_full(size = (3,4), fill_value = 51)"
      ],
      "metadata": {
        "colab": {
          "base_uri": "https://localhost:8080/"
        },
        "id": "2MMUIlL-42jB",
        "outputId": "a529e0f2-4001-448e-eb44-5a04f05c6b93"
      },
      "execution_count": 48,
      "outputs": [
        {
          "output_type": "execute_result",
          "data": {
            "text/plain": [
              "tensor([[51, 51, 51, 51],\n",
              "        [51, 51, 51, 51],\n",
              "        [51, 51, 51, 51]], dtype=torch.int8)"
            ]
          },
          "metadata": {},
          "execution_count": 48
        }
      ]
    },
    {
      "cell_type": "markdown",
      "source": [
        "**Returns a Tensor of size filled with uninitialized data**"
      ],
      "metadata": {
        "id": "pzPTypJX5Hiv"
      }
    },
    {
      "cell_type": "code",
      "source": [
        "Tensor.new_empty(size = (4,2))"
      ],
      "metadata": {
        "colab": {
          "base_uri": "https://localhost:8080/"
        },
        "id": "kTCc1X755RZb",
        "outputId": "b85ef1a6-17c0-4382-e9eb-60c63d7b66e0"
      },
      "execution_count": 56,
      "outputs": [
        {
          "output_type": "execute_result",
          "data": {
            "text/plain": [
              "tensor([[114,  10],\n",
              "        [  0,   0],\n",
              "        [  0, 114],\n",
              "        [ 25,   0]], dtype=torch.int8)"
            ]
          },
          "metadata": {},
          "execution_count": 56
        }
      ]
    },
    {
      "cell_type": "markdown",
      "source": [
        "**Returns a Tensor of size size filled with 1**"
      ],
      "metadata": {
        "id": "psBo2Jwq5hXZ"
      }
    },
    {
      "cell_type": "code",
      "source": [
        "Tensor.new_ones((5,2))"
      ],
      "metadata": {
        "colab": {
          "base_uri": "https://localhost:8080/"
        },
        "id": "6sHKKDU05kxx",
        "outputId": "c238302e-7008-4f9f-ee50-cf4936bf57ab"
      },
      "execution_count": 57,
      "outputs": [
        {
          "output_type": "execute_result",
          "data": {
            "text/plain": [
              "tensor([[1, 1],\n",
              "        [1, 1],\n",
              "        [1, 1],\n",
              "        [1, 1],\n",
              "        [1, 1]], dtype=torch.int8)"
            ]
          },
          "metadata": {},
          "execution_count": 57
        }
      ]
    },
    {
      "cell_type": "markdown",
      "source": [
        "**Returns a Tensor of size size filled with 0**"
      ],
      "metadata": {
        "id": "MOXA9rIJ5nv7"
      }
    },
    {
      "cell_type": "code",
      "source": [
        "Tensor.new_zeros((2,7))"
      ],
      "metadata": {
        "colab": {
          "base_uri": "https://localhost:8080/"
        },
        "id": "YNmwPqNt5tFW",
        "outputId": "fffcc331-f6ae-461b-c411-29665bc0ea63"
      },
      "execution_count": 58,
      "outputs": [
        {
          "output_type": "execute_result",
          "data": {
            "text/plain": [
              "tensor([[0, 0, 0, 0, 0, 0, 0],\n",
              "        [0, 0, 0, 0, 0, 0, 0]], dtype=torch.int8)"
            ]
          },
          "metadata": {},
          "execution_count": 58
        }
      ]
    },
    {
      "cell_type": "markdown",
      "source": [
        "**Is True if the Tensor is stored on the GPU, False otherwise**"
      ],
      "metadata": {
        "id": "gnz5rVPH5xaa"
      }
    },
    {
      "cell_type": "code",
      "source": [
        "Tensor.is_cuda"
      ],
      "metadata": {
        "colab": {
          "base_uri": "https://localhost:8080/"
        },
        "id": "vLHtVNcV51QZ",
        "outputId": "a66a8230-7cec-4fa9-8f86-876e971d6683"
      },
      "execution_count": 60,
      "outputs": [
        {
          "output_type": "execute_result",
          "data": {
            "text/plain": [
              "False"
            ]
          },
          "metadata": {},
          "execution_count": 60
        }
      ]
    },
    {
      "cell_type": "code",
      "source": [
        "Tensor.to('cuda').is_cuda"
      ],
      "metadata": {
        "colab": {
          "base_uri": "https://localhost:8080/"
        },
        "id": "6BK16Lf456SA",
        "outputId": "3d7e92d0-bd0d-4ab1-f6ac-9ad97e0f7750"
      },
      "execution_count": 63,
      "outputs": [
        {
          "output_type": "execute_result",
          "data": {
            "text/plain": [
              "True"
            ]
          },
          "metadata": {},
          "execution_count": 63
        }
      ]
    },
    {
      "cell_type": "markdown",
      "source": [
        "Is True if the Tensor is quantized, False otherwise"
      ],
      "metadata": {
        "id": "gRD9KIBO6IbE"
      }
    },
    {
      "cell_type": "code",
      "source": [
        "Tensor.is_quantized"
      ],
      "metadata": {
        "colab": {
          "base_uri": "https://localhost:8080/"
        },
        "id": "Xy3DfwdD6MiT",
        "outputId": "12a31e31-eb69-43c9-8437-292d680eed30"
      },
      "execution_count": 64,
      "outputs": [
        {
          "output_type": "execute_result",
          "data": {
            "text/plain": [
              "False"
            ]
          },
          "metadata": {},
          "execution_count": 64
        }
      ]
    },
    {
      "cell_type": "code",
      "source": [
        "import numpy as np\n",
        "\n",
        "# Create a non-quantized tensor with floating-point values\n",
        "non_quantized_tensor = np.array([0.1, 0.5, 0.9, 1.2])\n",
        "print(\"Non-quantized tensor:\")\n",
        "print(non_quantized_tensor)\n",
        "\n",
        "# Create a quantized tensor with integer values\n",
        "quantized_tensor = np.array([1, 2, 3, 4], dtype=np.int8)\n",
        "print(\"\\nQuantized tensor:\")\n",
        "print(quantized_tensor)\n"
      ],
      "metadata": {
        "colab": {
          "base_uri": "https://localhost:8080/"
        },
        "id": "kxzWktCc7sTH",
        "outputId": "7bb4cf54-ef2e-4fef-a74d-f155ab1d8d5e"
      },
      "execution_count": 65,
      "outputs": [
        {
          "output_type": "stream",
          "name": "stdout",
          "text": [
            "Non-quantized tensor:\n",
            "[0.1 0.5 0.9 1.2]\n",
            "\n",
            "Quantized tensor:\n",
            "[1 2 3 4]\n"
          ]
        }
      ]
    },
    {
      "cell_type": "markdown",
      "source": [
        "Non-quantized tensor can take whole range of numbers with a floating point. Quantized tensor can take (in this example) only 8-bits integers (from -128 to 127). Tensor quantization helps reducing memory usage of a deployed model, however it affects negatively precision and accuracy."
      ],
      "metadata": {
        "id": "DGOxjNTV73Dg"
      }
    },
    {
      "cell_type": "markdown",
      "source": [
        "**Is True if the Tensor is a meta tensor, False otherwise**"
      ],
      "metadata": {
        "id": "Re9PtgFl8Uev"
      }
    },
    {
      "cell_type": "code",
      "source": [
        "Tensor.is_meta"
      ],
      "metadata": {
        "colab": {
          "base_uri": "https://localhost:8080/"
        },
        "id": "IPuryNCM8hUw",
        "outputId": "f3edf89d-3d71-4b94-d45d-48871588fb49"
      },
      "execution_count": 66,
      "outputs": [
        {
          "output_type": "execute_result",
          "data": {
            "text/plain": [
              "False"
            ]
          },
          "metadata": {},
          "execution_count": 66
        }
      ]
    },
    {
      "cell_type": "markdown",
      "source": [
        "**Is the torch.device where this Tensor is**"
      ],
      "metadata": {
        "id": "NDaAnXuu837g"
      }
    },
    {
      "cell_type": "code",
      "source": [
        "Tensor.device"
      ],
      "metadata": {
        "colab": {
          "base_uri": "https://localhost:8080/"
        },
        "id": "qxlV-UhH87Dp",
        "outputId": "9d38517c-5817-4e6e-ce3d-de79b5525382"
      },
      "execution_count": 67,
      "outputs": [
        {
          "output_type": "execute_result",
          "data": {
            "text/plain": [
              "device(type='cpu')"
            ]
          },
          "metadata": {},
          "execution_count": 67
        }
      ]
    },
    {
      "cell_type": "markdown",
      "source": [
        "**This attribute is None by default and becomes a Tensor the first time a call to backward() computes gradients for self**"
      ],
      "metadata": {
        "id": "YyXH9WK389_n"
      }
    },
    {
      "cell_type": "code",
      "source": [
        "x = torch.tensor([[1.,2.,3.],[5.,4.,3.]], requires_grad = True)\n",
        "x"
      ],
      "metadata": {
        "colab": {
          "base_uri": "https://localhost:8080/"
        },
        "id": "sm6cgYOR9Hyj",
        "outputId": "2a1b80a4-3b47-4b4a-cff7-411c48fc599f"
      },
      "execution_count": 91,
      "outputs": [
        {
          "output_type": "execute_result",
          "data": {
            "text/plain": [
              "tensor([[1., 2., 3.],\n",
              "        [5., 4., 3.]], requires_grad=True)"
            ]
          },
          "metadata": {},
          "execution_count": 91
        }
      ]
    },
    {
      "cell_type": "code",
      "source": [
        "print(x.grad)"
      ],
      "metadata": {
        "colab": {
          "base_uri": "https://localhost:8080/"
        },
        "id": "vk8k9USt-neE",
        "outputId": "4d553c74-a148-4146-a124-cc6d41555eae"
      },
      "execution_count": 92,
      "outputs": [
        {
          "output_type": "stream",
          "name": "stdout",
          "text": [
            "None\n"
          ]
        }
      ]
    },
    {
      "cell_type": "code",
      "source": [
        "out = x.pow(2).sum()\n",
        "out"
      ],
      "metadata": {
        "colab": {
          "base_uri": "https://localhost:8080/"
        },
        "id": "t3IJKWvQ9L9X",
        "outputId": "8f1ff3b4-4a03-45d4-8377-9cd2ccaf3dc4"
      },
      "execution_count": 93,
      "outputs": [
        {
          "output_type": "execute_result",
          "data": {
            "text/plain": [
              "tensor(64., grad_fn=<SumBackward0>)"
            ]
          },
          "metadata": {},
          "execution_count": 93
        }
      ]
    },
    {
      "cell_type": "markdown",
      "source": [
        "Since we used function\n",
        "\n",
        "$y = x^2$\n",
        "\n",
        "our derivative equals 2x, so\n",
        "\n",
        "`x.grad` $= 2x$"
      ],
      "metadata": {
        "id": "q6_OW-HpA7R2"
      }
    },
    {
      "cell_type": "code",
      "source": [
        "out.backward()"
      ],
      "metadata": {
        "id": "6FqX8Mx490Uz"
      },
      "execution_count": 94,
      "outputs": []
    },
    {
      "cell_type": "markdown",
      "source": [
        "because we have grad which is 2x we receive below matrix"
      ],
      "metadata": {
        "id": "bFuq3sB5BuTX"
      }
    },
    {
      "cell_type": "code",
      "source": [
        "x.grad"
      ],
      "metadata": {
        "colab": {
          "base_uri": "https://localhost:8080/"
        },
        "id": "5eaIiSBp-pe0",
        "outputId": "979ae475-7ab2-4d5d-d5ca-9c7b84aab1e1"
      },
      "execution_count": 95,
      "outputs": [
        {
          "output_type": "execute_result",
          "data": {
            "text/plain": [
              "tensor([[ 2.,  4.,  6.],\n",
              "        [10.,  8.,  6.]])"
            ]
          },
          "metadata": {},
          "execution_count": 95
        }
      ]
    },
    {
      "cell_type": "markdown",
      "source": [
        "the gradient is a vector of derivatives, and both terms are closely related but used in different contexts."
      ],
      "metadata": {
        "id": "YQy0PrFTAZ2T"
      }
    },
    {
      "cell_type": "markdown",
      "source": [
        "**Alias for dim()**"
      ],
      "metadata": {
        "id": "xLmPKi90A5Hy"
      }
    },
    {
      "cell_type": "code",
      "source": [
        "Tensor.ndim"
      ],
      "metadata": {
        "colab": {
          "base_uri": "https://localhost:8080/"
        },
        "id": "CHMHSIgpB7sD",
        "outputId": "cb416ef2-d5ec-4f15-ec84-678b315bf6a9"
      },
      "execution_count": 97,
      "outputs": [
        {
          "output_type": "execute_result",
          "data": {
            "text/plain": [
              "1"
            ]
          },
          "metadata": {},
          "execution_count": 97
        }
      ]
    },
    {
      "cell_type": "markdown",
      "source": [
        "**Returns a new tensor containing real values of the self tensor for a complex-values input tensor**"
      ],
      "metadata": {
        "id": "pWEJuxlNCB5Q"
      }
    },
    {
      "cell_type": "code",
      "source": [
        "Tensor"
      ],
      "metadata": {
        "colab": {
          "base_uri": "https://localhost:8080/"
        },
        "id": "ojkaiEs0CX0g",
        "outputId": "fd254217-59d1-4d53-fbbb-f70aa62be08e"
      },
      "execution_count": 99,
      "outputs": [
        {
          "output_type": "execute_result",
          "data": {
            "text/plain": [
              "tensor([2, 2], dtype=torch.int8)"
            ]
          },
          "metadata": {},
          "execution_count": 99
        }
      ]
    },
    {
      "cell_type": "markdown",
      "source": [
        "new tensor"
      ],
      "metadata": {
        "id": "fTiGNDGLCZgs"
      }
    },
    {
      "cell_type": "code",
      "source": [
        "Tensor.real"
      ],
      "metadata": {
        "colab": {
          "base_uri": "https://localhost:8080/"
        },
        "id": "SPqHIPPBCUJL",
        "outputId": "9768d8e8-af32-45ed-a563-85133adf1a15"
      },
      "execution_count": 98,
      "outputs": [
        {
          "output_type": "execute_result",
          "data": {
            "text/plain": [
              "tensor([2, 2], dtype=torch.int8)"
            ]
          },
          "metadata": {},
          "execution_count": 98
        }
      ]
    },
    {
      "cell_type": "markdown",
      "source": [
        "**Return the number of bytes consumed by the \"view\" of elements of the Tensor if the Tensor does not use sparse storage layout**"
      ],
      "metadata": {
        "id": "aTMu11_gLXQ4"
      }
    },
    {
      "cell_type": "code",
      "source": [
        "Tensor.nbytes"
      ],
      "metadata": {
        "colab": {
          "base_uri": "https://localhost:8080/"
        },
        "id": "rR8uXI5uLpqq",
        "outputId": "1e48cf40-757d-4eac-9913-93c410434b71"
      },
      "execution_count": 101,
      "outputs": [
        {
          "output_type": "execute_result",
          "data": {
            "text/plain": [
              "2"
            ]
          },
          "metadata": {},
          "execution_count": 101
        }
      ]
    },
    {
      "cell_type": "markdown",
      "source": [
        "**Alias for element_size()**"
      ],
      "metadata": {
        "id": "zpgHruGoLsom"
      }
    },
    {
      "cell_type": "code",
      "source": [
        "Tensor.itemsize"
      ],
      "metadata": {
        "colab": {
          "base_uri": "https://localhost:8080/"
        },
        "id": "Qb9vquALLvdj",
        "outputId": "4985610b-a40a-4f7d-f4f7-f8d1e1decc90"
      },
      "execution_count": 102,
      "outputs": [
        {
          "output_type": "execute_result",
          "data": {
            "text/plain": [
              "1"
            ]
          },
          "metadata": {},
          "execution_count": 102
        }
      ]
    },
    {
      "cell_type": "markdown",
      "source": [
        "**Absolute values of tensor**"
      ],
      "metadata": {
        "id": "M5Z1ATXPL46b"
      }
    },
    {
      "cell_type": "code",
      "source": [
        "Tensor[0], Tensor[1] = -2, -2\n",
        "print(Tensor)\n",
        "Tensor.abs()"
      ],
      "metadata": {
        "colab": {
          "base_uri": "https://localhost:8080/"
        },
        "id": "ofbtTXdBL8cI",
        "outputId": "ee606b1a-d542-44d7-a00d-ea6626c3658b"
      },
      "execution_count": 105,
      "outputs": [
        {
          "output_type": "stream",
          "name": "stdout",
          "text": [
            "tensor([-2, -2], dtype=torch.int8)\n"
          ]
        },
        {
          "output_type": "execute_result",
          "data": {
            "text/plain": [
              "tensor([2, 2], dtype=torch.int8)"
            ]
          },
          "metadata": {},
          "execution_count": 105
        }
      ]
    },
    {
      "cell_type": "markdown",
      "source": [
        "**In-place version of abs()**"
      ],
      "metadata": {
        "id": "zBtm5TScMHqT"
      }
    },
    {
      "cell_type": "code",
      "source": [
        "Tensor.abs_()"
      ],
      "metadata": {
        "colab": {
          "base_uri": "https://localhost:8080/"
        },
        "id": "8UKz4kNtMKEg",
        "outputId": "885f2844-77af-4a0d-c4e3-d3fbb6f08408"
      },
      "execution_count": 107,
      "outputs": [
        {
          "output_type": "execute_result",
          "data": {
            "text/plain": [
              "tensor([2, 2], dtype=torch.int8)"
            ]
          },
          "metadata": {},
          "execution_count": 107
        }
      ]
    }
  ]
}